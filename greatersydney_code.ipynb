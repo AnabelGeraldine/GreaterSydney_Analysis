{
 "cells": [
  {
   "cell_type": "markdown",
   "id": "f9b78a8d",
   "metadata": {},
   "source": [
    "# DATA2001 Practical Assignment: Greater Sydney Analysis\n",
    "SID: 520108420, 520360707"
   ]
  },
  {
   "cell_type": "code",
   "execution_count": 1,
   "id": "15be0dad",
   "metadata": {},
   "outputs": [],
   "source": [
    "import numpy as np\n",
    "import pandas as pd\n",
    "import geopandas as gpd\n",
    "from shapely.geometry import Point, Polygon, MultiPolygon\n",
    "from shapely import wkt\n",
    "from geoalchemy2 import Geometry, WKTElement\n",
    "import matplotlib.pyplot as plt"
   ]
  },
  {
   "cell_type": "code",
   "execution_count": 2,
   "id": "8b1d52af",
   "metadata": {},
   "outputs": [],
   "source": [
    "# Loading in data\n",
    "businesses = pd.read_csv('Businesses.csv')\n",
    "income = pd.read_csv('Income.csv')\n",
    "polling = pd.read_csv('PollingPlaces2019.csv')\n",
    "population = pd.read_csv('Population.csv')\n",
    "stops = pd.read_csv('Stops.txt', sep=',')\n",
    "school_p = gpd.read_file('catchments/catchments_primary.shp')\n",
    "school_s = gpd.read_file('catchments/catchments_secondary.shp')\n",
    "sa2 = gpd.read_file('SA2_2021_AUST_SHP_GDA2020/SA2_2021_AUST_GDA2020.shp')"
   ]
  },
  {
   "cell_type": "markdown",
   "id": "fda674db",
   "metadata": {},
   "source": [
    "### Data cleaning"
   ]
  },
  {
   "cell_type": "code",
   "execution_count": 3,
   "id": "51d7a27a",
   "metadata": {},
   "outputs": [],
   "source": [
    "# Removing unnecessary columns\n",
    "# Businesses\n",
    "businesses = businesses.drop(columns=['industry_code','0_to_50k_businesses','50k_to_200k_businesses','200k_to_2m_businesses','2m_to_5m_businesses','5m_to_10m_businesses','10m_or_more_businesses'])\n",
    "# Income\n",
    "income = income.drop(columns=['earners','median_age','mean_income'])\n",
    "income = income.loc[income['median_income']!= 'np']\n",
    "# Population - removing columns and combining age groups to form young people category\n",
    "young_people = ['0-4_people','5-9_people','10-14_people','15-19_people']\n",
    "population['young_people']=population[young_people].sum(axis=1)\n",
    "population = population.drop(columns=['0-4_people','5-9_people','10-14_people','15-19_people','20-24_people','25-29_people','30-34_people','35-39_people','40-44_people','45-49_people','50-54_people','55-59_people','60-64_people','65-69_people','70-74_people','75-79_people','80-84_people','85-and-over_people'])\n",
    "# Polling\n",
    "polling = polling.drop(columns=['premises_name','FID','state','division_id','division_name','polling_place_type_id','premises_address_1','premises_address_2','premises_address_3','premises_suburb','premises_state_abbreviation','premises_post_code'])\n",
    "polling = polling.dropna()\n",
    "# Stops\n",
    "stops = stops.drop(columns=['stop_code','location_type','parent_station','wheelchair_boarding','platform_code'])\n",
    "# School - removing columns and combining primary and secondary schools into 1 dataframe\n",
    "school = pd.concat([school_p,school_s])\n",
    "school = school.drop(columns=['CATCH_TYPE','ADD_DATE','KINDERGART','YEAR1','YEAR2','YEAR3','YEAR4','YEAR5','YEAR6','YEAR7','YEAR8','YEAR9','YEAR10','YEAR11','YEAR12','PRIORITY'])\n",
    "# SA2\n",
    "sa2 = sa2.drop(columns=['CHG_FLAG21','CHG_LBL21','SA3_CODE21','SA3_NAME21','SA4_CODE21','SA4_NAME21','GCC_CODE21','STE_CODE21','STE_NAME21','AUS_CODE21','AUS_NAME21','AREASQKM21','LOCI_URI21'])\n",
    "\n",
    "# Filtering\n",
    "# Businesses\n",
    "businesses = businesses.loc[businesses['industry_name'].isin(['Retail Trade','Health Care and Social Assistance'])]\n",
    "# SA2\n",
    "sa2 = sa2.loc[sa2['GCC_NAME21'] == 'Greater Sydney']\n",
    "sa2 = sa2.drop(columns=['GCC_NAME21'])\n",
    "\n",
    "# Store geographical point \n",
    "stops['the_geom'] = gpd.points_from_xy(stops.stop_lon, stops.stop_lat)\n",
    "stops = stops.drop(columns=['stop_lat', 'stop_lon'])\n",
    "polling['the_geom'] = gpd.points_from_xy(polling.longitude, polling.latitude)\n",
    "polling = polling.drop(columns=['latitude', 'longitude'])\n",
    "\n",
    "\n",
    "# Convert column names to lower case\n",
    "businesses.columns = businesses.columns.str.lower()\n",
    "income.columns = income.columns.str.lower()\n",
    "polling.columns = polling.columns.str.lower()\n",
    "population.columns = population.columns.str.lower()\n",
    "stops.columns = stops.columns.str.lower()\n",
    "school.columns = school.columns.str.lower()\n",
    "sa2.columns = sa2.columns.str.lower()\n"
   ]
  },
  {
   "cell_type": "markdown",
   "id": "191ee2a2",
   "metadata": {},
   "source": [
    "#### Check SRIDs"
   ]
  },
  {
   "cell_type": "code",
   "execution_count": 4,
   "id": "182b10d7",
   "metadata": {},
   "outputs": [
    {
     "name": "stdout",
     "output_type": "stream",
     "text": [
      "SRID: 4283\n"
     ]
    }
   ],
   "source": [
    "# school\n",
    "srid = school.crs.to_epsg()\n",
    "print('SRID:', srid)"
   ]
  },
  {
   "cell_type": "code",
   "execution_count": 5,
   "id": "b7e026ce",
   "metadata": {},
   "outputs": [
    {
     "name": "stdout",
     "output_type": "stream",
     "text": [
      "SRID: 7844\n"
     ]
    }
   ],
   "source": [
    "# sa2\n",
    "srid = sa2.crs.to_epsg()\n",
    "print('SRID:', srid)"
   ]
  },
  {
   "cell_type": "markdown",
   "id": "cc65cf6f",
   "metadata": {},
   "source": [
    "#### SRID transformations"
   ]
  },
  {
   "cell_type": "code",
   "execution_count": 6,
   "id": "787a1e8d",
   "metadata": {},
   "outputs": [],
   "source": [
    "# stops\n",
    "srid = 4326\n",
    "stops['the_geom'] = stops['the_geom'].apply(lambda x: WKTElement(x, srid=srid))"
   ]
  },
  {
   "cell_type": "code",
   "execution_count": 7,
   "id": "e9798b0e",
   "metadata": {},
   "outputs": [],
   "source": [
    "# Polling\n",
    "polling['the_geom'] = polling['the_geom'].apply(lambda x: WKTElement(x, srid=srid))"
   ]
  },
  {
   "cell_type": "code",
   "execution_count": 8,
   "id": "2b91799f",
   "metadata": {},
   "outputs": [],
   "source": [
    "# school\n",
    "target_crs = 'EPSG:4326'  # For example, WGS84\n",
    "\n",
    "# Convert the CRS of the DataFrame\n",
    "school = school.to_crs(target_crs)\n",
    "\n",
    "# Convert the individual polygons to MULTIPOLYGON\n",
    "school['geometry'] = school['geometry'].apply(lambda x: MultiPolygon([x]) if isinstance(x, Polygon) else x)"
   ]
  },
  {
   "cell_type": "code",
   "execution_count": 9,
   "id": "e34da6df",
   "metadata": {},
   "outputs": [],
   "source": [
    "# sa2\n",
    "target_crs = 'EPSG:4326'  # For example, WGS84\n",
    "\n",
    "# Convert the CRS of the DataFrame\n",
    "sa2 = sa2.to_crs(target_crs)\n",
    "\n",
    "# Convert the individual polygons to MULTIPOLYGON\n",
    "sa2['geometry'] = sa2['geometry'].apply(lambda x: MultiPolygon([x]) if isinstance(x, Polygon) else x)"
   ]
  },
  {
   "cell_type": "code",
   "execution_count": 10,
   "id": "723f6f9c",
   "metadata": {},
   "outputs": [
    {
     "name": "stdout",
     "output_type": "stream",
     "text": [
      "Connected successfully.\n"
     ]
    }
   ],
   "source": [
    "from sqlalchemy import create_engine\n",
    "import psycopg2\n",
    "import psycopg2.extras\n",
    "import json\n",
    "import os\n",
    "\n",
    "credentials = \"Credentials.json\"\n",
    "\n",
    "def pgconnect(credential_filepath, db_schema=\"public\"):\n",
    "    with open(credential_filepath) as f:\n",
    "        db_conn_dict = json.load(f)\n",
    "        host       = db_conn_dict['host']\n",
    "        db_user    = db_conn_dict['user']\n",
    "        db_pw      = db_conn_dict['password']\n",
    "        default_db = db_conn_dict['user']\n",
    "        try:\n",
    "            db = create_engine('postgresql+psycopg2://'+db_user+':'+db_pw+'@'+host+'/'+default_db, echo=False)\n",
    "            conn = db.connect()\n",
    "            print('Connected successfully.')\n",
    "        except Exception as e:\n",
    "            print(\"Unable to connect to the database.\")\n",
    "            print(e)\n",
    "            db, conn = None, None\n",
    "        return db,conn\n",
    "\n",
    "def query(conn, sqlcmd, args=None, df=True):\n",
    "    result = pd.DataFrame() if df else None\n",
    "    try:\n",
    "        if df:\n",
    "            result = pd.read_sql_query(sqlcmd, conn, params=args)\n",
    "        else:\n",
    "            result = conn.execute(sqlcmd, args).fetchall()\n",
    "            result = result[0] if len(result) == 1 else result\n",
    "    except Exception as e:\n",
    "        print(\"Error encountered: \", e, sep='\\n')\n",
    "    return result\n",
    "\n",
    "db, conn = pgconnect(credentials)"
   ]
  },
  {
   "cell_type": "code",
   "execution_count": 11,
   "id": "9ff32054",
   "metadata": {},
   "outputs": [
    {
     "data": {
      "text/plain": [
       "<sqlalchemy.engine.cursor.LegacyCursorResult at 0x7ff69147ff40>"
      ]
     },
     "execution_count": 11,
     "metadata": {},
     "output_type": "execute_result"
    }
   ],
   "source": [
    "conn.execute(\"\"\"\n",
    "create schema if not exists public;\n",
    "set search_path to public;\n",
    "\"\"\")"
   ]
  },
  {
   "cell_type": "code",
   "execution_count": 12,
   "id": "f5c5d0e6",
   "metadata": {},
   "outputs": [
    {
     "data": {
      "text/plain": [
       "<sqlalchemy.engine.cursor.LegacyCursorResult at 0x7ff6a8850130>"
      ]
     },
     "execution_count": 12,
     "metadata": {},
     "output_type": "execute_result"
    }
   ],
   "source": [
    "conn.execute(\"\"\"\n",
    "DROP TABLE IF EXISTS businesses;\n",
    "CREATE TABLE businesses (\n",
    "    id SERIAL PRIMARY KEY,\n",
    "    industry_name VARCHAR(100), \n",
    "    sa2_code INTEGER, \n",
    "    sa2_name VARCHAR(100),\n",
    "    total_businesses INTEGER\n",
    ");\"\"\"\n",
    ")"
   ]
  },
  {
   "cell_type": "code",
   "execution_count": 13,
   "id": "7f7d3eae",
   "metadata": {},
   "outputs": [
    {
     "data": {
      "text/plain": [
       "<sqlalchemy.engine.cursor.LegacyCursorResult at 0x7ff690923c10>"
      ]
     },
     "execution_count": 13,
     "metadata": {},
     "output_type": "execute_result"
    }
   ],
   "source": [
    "conn.execute(\"\"\"\n",
    "DROP TABLE IF EXISTS polling;\n",
    "CREATE TABLE polling (\n",
    "    polling_place_id INTEGER PRIMARY KEY,\n",
    "    polling_place_name VARCHAR(100),\n",
    "    the_geom public.GEOMETRY(POINT,4326)\n",
    ");\"\"\"\n",
    ")"
   ]
  },
  {
   "cell_type": "code",
   "execution_count": 14,
   "id": "30fd67a9",
   "metadata": {},
   "outputs": [
    {
     "data": {
      "text/plain": [
       "<sqlalchemy.engine.cursor.LegacyCursorResult at 0x7ff6a0fe9af0>"
      ]
     },
     "execution_count": 14,
     "metadata": {},
     "output_type": "execute_result"
    }
   ],
   "source": [
    "conn.execute(\"\"\"\n",
    "DROP TABLE IF EXISTS income;\n",
    "CREATE TABLE income (\n",
    "    sa2_code INTEGER PRIMARY KEY,\n",
    "    sa2_name VARCHAR(100),\n",
    "    median_income INTEGER\n",
    ");\"\"\"\n",
    ")"
   ]
  },
  {
   "cell_type": "code",
   "execution_count": 15,
   "id": "92dbe74c",
   "metadata": {},
   "outputs": [
    {
     "data": {
      "text/plain": [
       "<sqlalchemy.engine.cursor.LegacyCursorResult at 0x7ff6a8850460>"
      ]
     },
     "execution_count": 15,
     "metadata": {},
     "output_type": "execute_result"
    }
   ],
   "source": [
    "conn.execute(\"\"\"\n",
    "DROP TABLE IF EXISTS population;\n",
    "CREATE TABLE population (\n",
    "    sa2_code INTEGER PRIMARY KEY,\n",
    "    sa2_name VARCHAR(100),\n",
    "    total_people INTEGER,\n",
    "    young_people INTEGER\n",
    ");\"\"\"\n",
    ")"
   ]
  },
  {
   "cell_type": "code",
   "execution_count": 16,
   "id": "2be167ea",
   "metadata": {},
   "outputs": [
    {
     "data": {
      "text/plain": [
       "<sqlalchemy.engine.cursor.LegacyCursorResult at 0x7ff6a8850310>"
      ]
     },
     "execution_count": 16,
     "metadata": {},
     "output_type": "execute_result"
    }
   ],
   "source": [
    "conn.execute(\"\"\"\n",
    "DROP TABLE IF EXISTS stops;\n",
    "CREATE TABLE stops (\n",
    "    stop_id VARCHAR(100) PRIMARY KEY,\n",
    "    stop_name VARCHAR(100),\n",
    "    the_geom public.GEOMETRY(POINT,4326)\n",
    ");\"\"\"\n",
    ")"
   ]
  },
  {
   "cell_type": "code",
   "execution_count": 17,
   "id": "d1f8aef5",
   "metadata": {},
   "outputs": [
    {
     "data": {
      "text/plain": [
       "<sqlalchemy.engine.cursor.LegacyCursorResult at 0x7ff6e2b57d90>"
      ]
     },
     "execution_count": 17,
     "metadata": {},
     "output_type": "execute_result"
    }
   ],
   "source": [
    "conn.execute(\"\"\"\n",
    "DROP TABLE IF EXISTS school;\n",
    "CREATE TABLE school (\n",
    "    use_id INTEGER PRIMARY KEY,\n",
    "    use_desc VARCHAR(100),\n",
    "    geometry public.GEOMETRY(MULTIPOLYGON,4326)\n",
    ");\"\"\"\n",
    ")"
   ]
  },
  {
   "cell_type": "code",
   "execution_count": 18,
   "id": "4bc71bb8",
   "metadata": {},
   "outputs": [
    {
     "data": {
      "text/plain": [
       "<sqlalchemy.engine.cursor.LegacyCursorResult at 0x7ff6a88505b0>"
      ]
     },
     "execution_count": 18,
     "metadata": {},
     "output_type": "execute_result"
    }
   ],
   "source": [
    "conn.execute(\"\"\"\n",
    "DROP TABLE IF EXISTS sa2;\n",
    "CREATE TABLE sa2 (\n",
    "    sa2_code21 INTEGER PRIMARY KEY,\n",
    "    sa2_name21 VARCHAR(100),\n",
    "    geometry public.GEOMETRY(MULTIPOLYGON,4326)\n",
    ");\"\"\"\n",
    ")"
   ]
  },
  {
   "cell_type": "markdown",
   "id": "7accb0fa",
   "metadata": {},
   "source": [
    "### Ingestion"
   ]
  },
  {
   "cell_type": "code",
   "execution_count": 19,
   "id": "3e1888a3",
   "metadata": {},
   "outputs": [
    {
     "data": {
      "text/plain": [
       "718"
      ]
     },
     "execution_count": 19,
     "metadata": {},
     "output_type": "execute_result"
    }
   ],
   "source": [
    "businesses.to_sql('businesses', conn, if_exists='append', index=False)\n",
    "income.to_sql('income', conn, if_exists='append', index=False)\n",
    "population.to_sql('population', conn, if_exists='append', index=False)\n",
    "sa2.to_postgis(name='sa2', con=conn, if_exists='replace', index=False, schema='public', dtype={'geometry': 'MULTIPOLYGON'})\n",
    "school.to_postgis(name='school', con=conn, if_exists='replace', index=False, schema='public', dtype={'geometry': 'MULTIPOLYGON'})\n",
    "polling.to_sql('polling', conn, if_exists='append', index=False, dtype={'the_geom':Geometry('POINT',srid)})\n",
    "stops.to_sql('stops', conn, if_exists='append', index=False, dtype={'the_geom':Geometry('POINT',srid)})"
   ]
  },
  {
   "cell_type": "code",
   "execution_count": 31,
   "id": "ed29c58a",
   "metadata": {
    "scrolled": false
   },
   "outputs": [
    {
     "data": {
      "text/plain": [
       "<sqlalchemy.engine.cursor.LegacyCursorResult at 0x7ff6a8b21910>"
      ]
     },
     "execution_count": 31,
     "metadata": {},
     "output_type": "execute_result"
    }
   ],
   "source": [
    "conn.execute(\"\"\"\n",
    "DROP TABLE IF EXISTS sa2_nonspatial;\n",
    "CREATE TABLE sa2_nonspatial AS\n",
    "SELECT s.sa2_code21, s.sa2_name21, b.industry_name, b.total_businesses, p.young_people, p.total_people, s.geometry\n",
    "FROM businesses b\n",
    "JOIN sa2 s\n",
    "ON b.sa2_code = s.sa2_code21::integer\n",
    "JOIN population p\n",
    "ON p.sa2_code = s.sa2_code21::integer\n",
    "where p.total_people >= 100\n",
    ";\"\"\"\n",
    ")"
   ]
  },
  {
   "cell_type": "code",
   "execution_count": 33,
   "id": "44ac6fa4",
   "metadata": {},
   "outputs": [
    {
     "data": {
      "text/plain": [
       "<sqlalchemy.engine.cursor.LegacyCursorResult at 0x7ff691497940>"
      ]
     },
     "execution_count": 33,
     "metadata": {},
     "output_type": "execute_result"
    }
   ],
   "source": [
    "conn.execute(\"\"\"\n",
    "DROP TABLE IF EXISTS sa2_spatial;\n",
    "CREATE TABLE sa2_spatial AS \n",
    "SELECT sa2.sa2_code21, sa2.sa2_name21,\n",
    "       COUNT(DISTINCT stops.stop_id) AS stop_count,\n",
    "       COUNT(DISTINCT polling.polling_place_id) AS polling_place_count,\n",
    "       COUNT(DISTINCT school.use_id) AS school_catchment_count\n",
    "FROM school\n",
    "LEFT JOIN sa2 ON ST_INTERSECTS(sa2.geometry, school.geometry)\n",
    "LEFT JOIN stops ON ST_Intersects(sa2.geometry, stops.the_geom)\n",
    "LEFT JOIN polling ON ST_Intersects(sa2.geometry, polling.the_geom)\n",
    "GROUP BY sa2.sa2_code21, sa2.sa2_name21;\n",
    ";\"\"\"\n",
    ")"
   ]
  },
  {
   "cell_type": "code",
   "execution_count": 40,
   "id": "f2244df2",
   "metadata": {
    "scrolled": true
   },
   "outputs": [
    {
     "data": {
      "text/plain": [
       "<sqlalchemy.engine.cursor.LegacyCursorResult at 0x7ff6d10f7c40>"
      ]
     },
     "execution_count": 40,
     "metadata": {},
     "output_type": "execute_result"
    }
   ],
   "source": [
    "conn.execute(\"\"\"\n",
    "DROP TABLE IF EXISTS all_data;\n",
    "CREATE TABLE all_data AS \n",
    "SELECT s.*, n.industry_name, n.total_businesses, n.young_people, n.total_people, n.geometry\n",
    "FROM sa2_spatial s\n",
    "JOIN sa2_nonspatial n\n",
    "ON s.sa2_code21 = n.sa2_code21;\n",
    ";\"\"\"\n",
    ")"
   ]
  },
  {
   "cell_type": "code",
   "execution_count": 45,
   "id": "543e8382",
   "metadata": {},
   "outputs": [
    {
     "data": {
      "text/html": [
       "<div>\n",
       "<style scoped>\n",
       "    .dataframe tbody tr th:only-of-type {\n",
       "        vertical-align: middle;\n",
       "    }\n",
       "\n",
       "    .dataframe tbody tr th {\n",
       "        vertical-align: top;\n",
       "    }\n",
       "\n",
       "    .dataframe thead th {\n",
       "        text-align: right;\n",
       "    }\n",
       "</style>\n",
       "<table border=\"1\" class=\"dataframe\">\n",
       "  <thead>\n",
       "    <tr style=\"text-align: right;\">\n",
       "      <th></th>\n",
       "      <th>sa2_code21</th>\n",
       "      <th>sa2_name21</th>\n",
       "      <th>stop_count</th>\n",
       "      <th>polling_place_count</th>\n",
       "      <th>school_catchment_count</th>\n",
       "      <th>industry_name</th>\n",
       "      <th>total_businesses</th>\n",
       "      <th>young_people</th>\n",
       "      <th>total_people</th>\n",
       "      <th>geometry</th>\n",
       "    </tr>\n",
       "  </thead>\n",
       "  <tbody>\n",
       "    <tr>\n",
       "      <th>0</th>\n",
       "      <td>102011028</td>\n",
       "      <td>Avoca Beach - Copacabana</td>\n",
       "      <td>127</td>\n",
       "      <td>2</td>\n",
       "      <td>6</td>\n",
       "      <td>Health Care and Social Assistance</td>\n",
       "      <td>74</td>\n",
       "      <td>2121</td>\n",
       "      <td>7530</td>\n",
       "      <td>0106000020E6100000010000000103000000010000005E...</td>\n",
       "    </tr>\n",
       "    <tr>\n",
       "      <th>1</th>\n",
       "      <td>102011028</td>\n",
       "      <td>Avoca Beach - Copacabana</td>\n",
       "      <td>127</td>\n",
       "      <td>2</td>\n",
       "      <td>6</td>\n",
       "      <td>Retail Trade</td>\n",
       "      <td>45</td>\n",
       "      <td>2121</td>\n",
       "      <td>7530</td>\n",
       "      <td>0106000020E6100000010000000103000000010000005E...</td>\n",
       "    </tr>\n",
       "    <tr>\n",
       "      <th>2</th>\n",
       "      <td>102011029</td>\n",
       "      <td>Box Head - MacMasters Beach</td>\n",
       "      <td>215</td>\n",
       "      <td>2</td>\n",
       "      <td>7</td>\n",
       "      <td>Health Care and Social Assistance</td>\n",
       "      <td>55</td>\n",
       "      <td>2471</td>\n",
       "      <td>11052</td>\n",
       "      <td>0106000020E61000000100000001030000000100000010...</td>\n",
       "    </tr>\n",
       "    <tr>\n",
       "      <th>3</th>\n",
       "      <td>102011029</td>\n",
       "      <td>Box Head - MacMasters Beach</td>\n",
       "      <td>215</td>\n",
       "      <td>2</td>\n",
       "      <td>7</td>\n",
       "      <td>Retail Trade</td>\n",
       "      <td>50</td>\n",
       "      <td>2471</td>\n",
       "      <td>11052</td>\n",
       "      <td>0106000020E61000000100000001030000000100000010...</td>\n",
       "    </tr>\n",
       "    <tr>\n",
       "      <th>4</th>\n",
       "      <td>102011030</td>\n",
       "      <td>Calga - Kulnura</td>\n",
       "      <td>172</td>\n",
       "      <td>7</td>\n",
       "      <td>26</td>\n",
       "      <td>Health Care and Social Assistance</td>\n",
       "      <td>43</td>\n",
       "      <td>961</td>\n",
       "      <td>4748</td>\n",
       "      <td>0106000020E61000000200000001030000000100000085...</td>\n",
       "    </tr>\n",
       "    <tr>\n",
       "      <th>...</th>\n",
       "      <td>...</td>\n",
       "      <td>...</td>\n",
       "      <td>...</td>\n",
       "      <td>...</td>\n",
       "      <td>...</td>\n",
       "      <td>...</td>\n",
       "      <td>...</td>\n",
       "      <td>...</td>\n",
       "      <td>...</td>\n",
       "      <td>...</td>\n",
       "    </tr>\n",
       "    <tr>\n",
       "      <th>715</th>\n",
       "      <td>128021607</td>\n",
       "      <td>Engadine</td>\n",
       "      <td>221</td>\n",
       "      <td>7</td>\n",
       "      <td>10</td>\n",
       "      <td>Retail Trade</td>\n",
       "      <td>68</td>\n",
       "      <td>5118</td>\n",
       "      <td>17379</td>\n",
       "      <td>0106000020E6100000010000000103000000010000008E...</td>\n",
       "    </tr>\n",
       "    <tr>\n",
       "      <th>716</th>\n",
       "      <td>128021608</td>\n",
       "      <td>Loftus - Yarrawarrah</td>\n",
       "      <td>144</td>\n",
       "      <td>2</td>\n",
       "      <td>9</td>\n",
       "      <td>Health Care and Social Assistance</td>\n",
       "      <td>22</td>\n",
       "      <td>2073</td>\n",
       "      <td>7354</td>\n",
       "      <td>0106000020E610000001000000010300000001000000A1...</td>\n",
       "    </tr>\n",
       "    <tr>\n",
       "      <th>717</th>\n",
       "      <td>128021608</td>\n",
       "      <td>Loftus - Yarrawarrah</td>\n",
       "      <td>144</td>\n",
       "      <td>2</td>\n",
       "      <td>9</td>\n",
       "      <td>Retail Trade</td>\n",
       "      <td>29</td>\n",
       "      <td>2073</td>\n",
       "      <td>7354</td>\n",
       "      <td>0106000020E610000001000000010300000001000000A1...</td>\n",
       "    </tr>\n",
       "    <tr>\n",
       "      <th>718</th>\n",
       "      <td>128021609</td>\n",
       "      <td>Woronora Heights</td>\n",
       "      <td>42</td>\n",
       "      <td>1</td>\n",
       "      <td>8</td>\n",
       "      <td>Health Care and Social Assistance</td>\n",
       "      <td>15</td>\n",
       "      <td>965</td>\n",
       "      <td>3551</td>\n",
       "      <td>0106000020E610000001000000010300000001000000F0...</td>\n",
       "    </tr>\n",
       "    <tr>\n",
       "      <th>719</th>\n",
       "      <td>128021609</td>\n",
       "      <td>Woronora Heights</td>\n",
       "      <td>42</td>\n",
       "      <td>1</td>\n",
       "      <td>8</td>\n",
       "      <td>Retail Trade</td>\n",
       "      <td>9</td>\n",
       "      <td>965</td>\n",
       "      <td>3551</td>\n",
       "      <td>0106000020E610000001000000010300000001000000F0...</td>\n",
       "    </tr>\n",
       "  </tbody>\n",
       "</table>\n",
       "<p>720 rows × 10 columns</p>\n",
       "</div>"
      ],
      "text/plain": [
       "    sa2_code21                   sa2_name21  stop_count  polling_place_count  \\\n",
       "0    102011028     Avoca Beach - Copacabana         127                    2   \n",
       "1    102011028     Avoca Beach - Copacabana         127                    2   \n",
       "2    102011029  Box Head - MacMasters Beach         215                    2   \n",
       "3    102011029  Box Head - MacMasters Beach         215                    2   \n",
       "4    102011030              Calga - Kulnura         172                    7   \n",
       "..         ...                          ...         ...                  ...   \n",
       "715  128021607                     Engadine         221                    7   \n",
       "716  128021608         Loftus - Yarrawarrah         144                    2   \n",
       "717  128021608         Loftus - Yarrawarrah         144                    2   \n",
       "718  128021609             Woronora Heights          42                    1   \n",
       "719  128021609             Woronora Heights          42                    1   \n",
       "\n",
       "     school_catchment_count                      industry_name  \\\n",
       "0                         6  Health Care and Social Assistance   \n",
       "1                         6                       Retail Trade   \n",
       "2                         7  Health Care and Social Assistance   \n",
       "3                         7                       Retail Trade   \n",
       "4                        26  Health Care and Social Assistance   \n",
       "..                      ...                                ...   \n",
       "715                      10                       Retail Trade   \n",
       "716                       9  Health Care and Social Assistance   \n",
       "717                       9                       Retail Trade   \n",
       "718                       8  Health Care and Social Assistance   \n",
       "719                       8                       Retail Trade   \n",
       "\n",
       "     total_businesses  young_people  total_people  \\\n",
       "0                  74          2121          7530   \n",
       "1                  45          2121          7530   \n",
       "2                  55          2471         11052   \n",
       "3                  50          2471         11052   \n",
       "4                  43           961          4748   \n",
       "..                ...           ...           ...   \n",
       "715                68          5118         17379   \n",
       "716                22          2073          7354   \n",
       "717                29          2073          7354   \n",
       "718                15           965          3551   \n",
       "719                 9           965          3551   \n",
       "\n",
       "                                              geometry  \n",
       "0    0106000020E6100000010000000103000000010000005E...  \n",
       "1    0106000020E6100000010000000103000000010000005E...  \n",
       "2    0106000020E61000000100000001030000000100000010...  \n",
       "3    0106000020E61000000100000001030000000100000010...  \n",
       "4    0106000020E61000000200000001030000000100000085...  \n",
       "..                                                 ...  \n",
       "715  0106000020E6100000010000000103000000010000008E...  \n",
       "716  0106000020E610000001000000010300000001000000A1...  \n",
       "717  0106000020E610000001000000010300000001000000A1...  \n",
       "718  0106000020E610000001000000010300000001000000F0...  \n",
       "719  0106000020E610000001000000010300000001000000F0...  \n",
       "\n",
       "[720 rows x 10 columns]"
      ]
     },
     "execution_count": 45,
     "metadata": {},
     "output_type": "execute_result"
    }
   ],
   "source": [
    "query(conn, \"select * from all_data\")"
   ]
  },
  {
   "cell_type": "markdown",
   "id": "be5c8041",
   "metadata": {},
   "source": [
    "### Compute z-scores"
   ]
  },
  {
   "cell_type": "code",
   "execution_count": null,
   "id": "1b3bab10",
   "metadata": {},
   "outputs": [],
   "source": []
  },
  {
   "cell_type": "markdown",
   "id": "4c49a367",
   "metadata": {},
   "source": [
    "### Normalise z-scores"
   ]
  },
  {
   "cell_type": "code",
   "execution_count": null,
   "id": "5d4d3cf1",
   "metadata": {},
   "outputs": [],
   "source": []
  },
  {
   "cell_type": "markdown",
   "id": "a208526c",
   "metadata": {},
   "source": [
    "### Compute score"
   ]
  },
  {
   "cell_type": "code",
   "execution_count": null,
   "id": "34a2a108",
   "metadata": {},
   "outputs": [],
   "source": []
  },
  {
   "cell_type": "markdown",
   "id": "c9e40acc",
   "metadata": {},
   "source": [
    "### Extend score by additional datasets"
   ]
  },
  {
   "cell_type": "code",
   "execution_count": null,
   "id": "fb3b66e0",
   "metadata": {},
   "outputs": [],
   "source": []
  },
  {
   "cell_type": "markdown",
   "id": "2d59f05b",
   "metadata": {},
   "source": [
    "### Visualise score"
   ]
  },
  {
   "cell_type": "code",
   "execution_count": null,
   "id": "d0fdafaf",
   "metadata": {},
   "outputs": [],
   "source": []
  },
  {
   "cell_type": "markdown",
   "id": "e35abd0a",
   "metadata": {},
   "source": [
    "### Determine correlation between score and median income"
   ]
  },
  {
   "cell_type": "code",
   "execution_count": null,
   "id": "33e0f347",
   "metadata": {},
   "outputs": [],
   "source": []
  },
  {
   "cell_type": "code",
   "execution_count": 2,
   "id": "2032047a",
   "metadata": {},
   "outputs": [],
   "source": [
    "#conn.close()\n",
    "#db.dispose()"
   ]
  }
 ],
 "metadata": {
  "kernelspec": {
   "display_name": "Python 3 (ipykernel)",
   "language": "python",
   "name": "python3"
  },
  "language_info": {
   "codemirror_mode": {
    "name": "ipython",
    "version": 3
   },
   "file_extension": ".py",
   "mimetype": "text/x-python",
   "name": "python",
   "nbconvert_exporter": "python",
   "pygments_lexer": "ipython3",
   "version": "3.9.12"
  }
 },
 "nbformat": 4,
 "nbformat_minor": 5
}
